{
 "cells": [
  {
   "cell_type": "markdown",
   "id": "1b6ba91a-9c29-44f6-91f6-60b07b25046d",
   "metadata": {},
   "source": [
    "### **Problem Statement:**\n",
    "Your task is to build a multi-layer **autoencoder** using **PyTorch** to compress the images into a lower-dimensional representation and then reconstruct them. The model should use the **Adam optimizer** and **Mean Squared Error (MSE) loss**. The goal is to minimize the reconstruction loss and generate an accurate representation of the input data.\n",
    "\n",
    "#### **Steps to Complete the Exercise:**\n",
    "1. **Build the Multi-Layer Autoencoder**:  \n",
    "   - **Encoder**: Multiple dense layers reducing dimensionality.\n",
    "   - **Decoder**: Symmetric layers reconstructing the image.\n",
    "2. **Train the Model**: Use **Mean Squared Error (MSE) loss** and **Adam optimizer** to train the autoencoder.\n"
   ]
  },
  {
   "cell_type": "code",
   "execution_count": 5,
   "id": "4364b87c-b24c-4923-918a-b1899c77019e",
   "metadata": {
    "deletable": false,
    "editable": false,
    "nbgrader": {
     "cell_type": "code",
     "checksum": "0a2c9366a51098917f11806e5e2a7220",
     "grade": false,
     "grade_id": "cell-8b92532665d916d3",
     "locked": true,
     "schema_version": 3,
     "solution": false,
     "task": false
    },
    "tags": []
   },
   "outputs": [],
   "source": [
    "import torch\n",
    "import torch.nn as nn\n",
    "import torch.optim as optim\n",
    "import matplotlib.pyplot as plt"
   ]
  },
  {
   "cell_type": "raw",
   "id": "eaa3a2f8-361e-4748-b03d-d4268f42461a",
   "metadata": {},
   "source": [
    "the ANSI diagram for the multi-layer autoencoder\n",
    "    Input Layer (28x28 pixels)  \n",
    "          |\n",
    "      [Flatten Layer] (784)\n",
    "          |\n",
    "      [Dense Layer 512] - Linear, ReLU\n",
    "          |\n",
    "      [Dense Layer 256] - Linear, ReLU\n",
    "          |\n",
    "      [Dense Layer 128] - Linear, ReLU\n",
    "          |\n",
    "      [Dense Layer 64]  <-- Latent Representation (Bottleneck)\n",
    "          |\n",
    "      [Dense Layer 128] - Linear, ReLU\n",
    "          |\n",
    "      [Dense Layer 256] - Linear, ReLU\n",
    "          |\n",
    "      [Dense Layer 512] - Linear, ReLU\n",
    "          |\n",
    "      [Dense Layer 784] - Sigmoid (Reconstructs 28x28 image)\n",
    "          |\n",
    "      [Unflatten Layer] (Reshape to 28x28)\n",
    "          |\n",
    "      Output (Reconstructed Image)\n"
   ]
  },
  {
   "cell_type": "code",
   "execution_count": 6,
   "id": "8017c3ea-62f9-4f84-b370-236717077fa7",
   "metadata": {
    "deletable": false,
    "nbgrader": {
     "cell_type": "code",
     "checksum": "9708898f824ae9511d2bce81b58bb308",
     "grade": false,
     "grade_id": "cell-27ea4a84abb9b035",
     "locked": false,
     "schema_version": 3,
     "solution": true,
     "task": false
    },
    "tags": []
   },
   "outputs": [],
   "source": [
    "### Implement the Autoencoder ###\n",
    "\n",
    "# Define Autoencoder class\n",
    "class Autoencoder(nn.Module):\n",
    "    def __init__(self):\n",
    "        super(Autoencoder, self).__init__()\n",
    "        # Encoder\n",
    "        self.encoder = nn.Sequential(\n",
    "            # YOUR CODE HERE\n",
    "            nn.Flatten(),\n",
    "            nn.Linear(28*28,512),\n",
    "            nn.ReLU(),\n",
    "            nn.Linear(512,256),\n",
    "            nn.ReLU(),\n",
    "            nn.Linear(256,128),\n",
    "            nn.ReLU(),\n",
    "            nn.Linear(128,64)\n",
    "            #raise NotImplementedError()\n",
    "        )\n",
    "        \n",
    "        # Decoder\n",
    "        self.decoder = nn.Sequential(\n",
    "            # YOUR CODE HERE\n",
    "            nn.Linear(64,128),\n",
    "            nn.ReLU(),\n",
    "            nn.Linear(128,256),\n",
    "            nn.ReLU(),\n",
    "            nn.Linear(256,512),\n",
    "            nn.ReLU(),\n",
    "            nn.Linear(512,784),\n",
    "            nn.Sigmoid(),\n",
    "            nn.Unflatten(1,(1,28,28))\n",
    "            #raise NotImplementedError()\n",
    "        )\n",
    "    \n",
    "    def forward(self, x):\n",
    "        encoded = self.encoder(x)\n",
    "        decoded = self.decoder(encoded)\n",
    "        return decoded\n"
   ]
  },
  {
   "cell_type": "code",
   "execution_count": 7,
   "id": "0b3029a5-1da0-4a01-80ac-9a6f95da6e19",
   "metadata": {
    "deletable": false,
    "nbgrader": {
     "cell_type": "code",
     "checksum": "c6ff52101c132bbf243a0949248ca845",
     "grade": false,
     "grade_id": "cell-5ba5e09c936b9c03",
     "locked": false,
     "schema_version": 3,
     "solution": true,
     "task": false
    },
    "tags": []
   },
   "outputs": [],
   "source": [
    "# Define loss function and optimizer\n",
    "student_model = Autoencoder()\n",
    "# initialize the 'criterion' to apply the loss and 'optimizer' for the optimzation.\n",
    "# YOUR CODE HERE\n",
    "optimizer = optim.Adam(student_model.parameters(),lr=0.001)\n",
    "criterion = nn.MSELoss()\n",
    "#raise NotImplementedError()"
   ]
  },
  {
   "cell_type": "code",
   "execution_count": 8,
   "id": "d54184ac-864d-4547-8d75-ea098bc1ad2c",
   "metadata": {
    "deletable": false,
    "editable": false,
    "nbgrader": {
     "cell_type": "code",
     "checksum": "da42d79f5413563e28018212c47b1f47",
     "grade": true,
     "grade_id": "cell-5c5326677bac71d2",
     "locked": true,
     "points": 100,
     "schema_version": 3,
     "solution": false,
     "task": false
    },
    "tags": []
   },
   "outputs": [],
   "source": [
    "### Instructor Test Code: Validate Student Submission ###\n",
    "\n"
   ]
  }
 ],
 "metadata": {
  "kernelspec": {
   "display_name": "Python 3 (ipykernel)",
   "language": "python",
   "name": "python3"
  },
  "language_info": {
   "codemirror_mode": {
    "name": "ipython",
    "version": 3
   },
   "file_extension": ".py",
   "mimetype": "text/x-python",
   "name": "python",
   "nbconvert_exporter": "python",
   "pygments_lexer": "ipython3",
   "version": "3.10.14"
  }
 },
 "nbformat": 4,
 "nbformat_minor": 5
}
